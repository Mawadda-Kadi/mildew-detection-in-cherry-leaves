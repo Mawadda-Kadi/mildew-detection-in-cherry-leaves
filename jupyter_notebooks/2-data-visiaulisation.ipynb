{
 "cells": [
  {
   "cell_type": "markdown",
   "metadata": {},
   "source": [
    "### Data Visualization Notebook"
   ]
  },
  {
   "cell_type": "markdown",
   "metadata": {},
   "source": [
    "**Objectives**\n",
    "- Answer bussiness requirements 1:\n",
    "    + The client is interested in conducting a study to visually differentiate a healthy cherry leaf from one with powdery mildew.\n",
    "\n",
    "**Inputs**\n",
    "- inputs/cherry_leaves_dataset/cherry-leaves/train/\n",
    "- inputs/cherry_leaves_dataset/cherry-leaves/test/\n",
    "- inputs/cherry_leaves_dataset/cherry-leaves/validation/\n",
    "\n",
    "**Outputs**\n",
    "1. Distribution of Image File Sizes Visualization:\n",
    "- A histogram plot showing the distribution of file sizes for the images in the dataset.\n",
    "- This plot helps to understand the variation in image file sizes across the dataset, displayed in bytes, and the number of images corresponding to various size ranges.\n",
    "\n",
    "2. Image Feature Embeddings File (image_embeddings.joblib):\n",
    "- Contains the feature embeddings for each image, extracted using the deep learning model `ResNet50`.\n",
    "- These embeddings are high-dimensional numerical representations of the image content, capturing essential visual features like textures, shapes, and colors learned through the model's training on ImageNet.\n",
    "- The embeddings are stored in a dictionary where each key is the image path, and the value is the corresponding flattened feature vector.\n",
    "- The file is saved in a compressed .joblib format, which is efficient for storing large numpy arrays and makes loading the data faster and easier in future processing.\n",
    "\n",
    "3. Mean and Variability of Images per Label Plot:\n",
    "- This plot shows the average (mean) and variability (often standard deviation or variance) of the image features or embeddings, categorized by label (healthy vs. powdery mildew-infected).\n",
    "- It helps in understanding the distribution and diversity of the characteristics within each category, which can be crucial for diagnosing issues with the model or data.\n",
    "\n",
    "4. Plot to distingiush contrast between healthy powdery mildew-infected cherry leaves:\n",
    "- This is a visualization specifically designed to highlight the differences between images that contain powdery mildew and those that are uninfected.\n",
    "- The contrast might be in terms of color, texture, or other image features that are relevant to identifying the infection.\n",
    "\n",
    "5. Generate code that answers business requirement 1 and can be used to build image montage on Streamlit dashboard.\n",
    "\n",
    "**Additional Comments | Insights | Conclusion**\n",
    "- All images have the same dimensions: 256x256 pixels, so it is best to analyse and plot using another image feature (size).\n",
    "\n",
    "____________________________________________________________________________________"
   ]
  },
  {
   "cell_type": "markdown",
   "metadata": {},
   "source": [
    "### **Set Data Directory**\n",
    "__________________________________________________________________________________________"
   ]
  },
  {
   "cell_type": "markdown",
   "metadata": {},
   "source": [
    "**Import libraries**"
   ]
  },
  {
   "cell_type": "code",
   "execution_count": 22,
   "metadata": {},
   "outputs": [],
   "source": [
    "import os\n",
    "import pandas as pd\n",
    "import numpy as np\n",
    "import matplotlib.pyplot as plt\n",
    "import seaborn as sns\n",
    "import joblib\n",
    "from joblib import dump\n",
    "from tensorflow.keras.preprocessing import image\n",
    "from tensorflow.keras.applications.resnet50 import ResNet50, preprocess_input\n",
    "from tensorflow.keras.models import Model\n",
    "sns.set_style(\"white\")\n",
    "from matplotlib.image import imread"
   ]
  },
  {
   "cell_type": "markdown",
   "metadata": {},
   "source": [
    "**Set working directory**"
   ]
  },
  {
   "cell_type": "code",
   "execution_count": 2,
   "metadata": {},
   "outputs": [],
   "source": [
    "cwd= os.getcwd()"
   ]
  },
  {
   "cell_type": "code",
   "execution_count": 3,
   "metadata": {},
   "outputs": [
    {
     "name": "stdout",
     "output_type": "stream",
     "text": [
      "You set a new current directory\n"
     ]
    }
   ],
   "source": [
    "os.chdir('/workspace/mildew-detection-in-cherry-leaves')\n",
    "print(\"You set a new current directory\")"
   ]
  },
  {
   "cell_type": "code",
   "execution_count": 4,
   "metadata": {},
   "outputs": [
    {
     "data": {
      "text/plain": [
       "'/workspace/mildew-detection-in-cherry-leaves'"
      ]
     },
     "execution_count": 4,
     "metadata": {},
     "output_type": "execute_result"
    }
   ],
   "source": [
    "work_dir = os.getcwd()\n",
    "work_dir"
   ]
  },
  {
   "cell_type": "markdown",
   "metadata": {},
   "source": [
    "**Set input directories**"
   ]
  },
  {
   "cell_type": "markdown",
   "metadata": {},
   "source": [
    "Set train, validation and test paths"
   ]
  },
  {
   "cell_type": "code",
   "execution_count": 5,
   "metadata": {},
   "outputs": [],
   "source": [
    "my_data_dir = 'inputs/cherry_leaves_dataset/cherry-leaves'\n",
    "train_path = my_data_dir + '/train'\n",
    "val_path = my_data_dir + '/validation'\n",
    "test_path = my_data_dir + '/test'"
   ]
  },
  {
   "cell_type": "markdown",
   "metadata": {},
   "source": [
    "**Set output directory**"
   ]
  },
  {
   "cell_type": "markdown",
   "metadata": {},
   "source": [
    "- Organize files in a version-controlled manner\n",
    "- This code is checking if a specific version of output files or directories already exists, and if it does, it suggests that a new version should be created. \n",
    "- If the version does not exist, it creates the necessary directory structure to store the files for that version."
   ]
  },
  {
   "cell_type": "code",
   "execution_count": 6,
   "metadata": {},
   "outputs": [],
   "source": [
    "version = 'v1'\n",
    "file_path = f'outputs/{version}'\n",
    "\n",
    "if 'outputs' in os.listdir(work_dir) and version in os.listdir(work_dir + '/outputs'):\n",
    "  print('Old version is already available create a new version.')\n",
    "  pass\n",
    "else:\n",
    "  os.makedirs(name=file_path)"
   ]
  },
  {
   "cell_type": "markdown",
   "metadata": {},
   "source": [
    "**Set label names**"
   ]
  },
  {
   "cell_type": "code",
   "execution_count": 7,
   "metadata": {},
   "outputs": [
    {
     "name": "stdout",
     "output_type": "stream",
     "text": [
      "Label for the images are ['healthy', 'powdery_mildew']\n"
     ]
    }
   ],
   "source": [
    "labels = os.listdir(train_path)\n",
    "print('Label for the images are',labels)"
   ]
  },
  {
   "cell_type": "markdown",
   "metadata": {},
   "source": [
    "___________________________________________________________________________________________\n",
    "### **Data Visualisation of Image Data**\n",
    "___________________________________________________________________________________________"
   ]
  },
  {
   "cell_type": "markdown",
   "metadata": {},
   "source": [
    "1. **Distribution of Image File Sizes Visualization**"
   ]
  },
  {
   "cell_type": "code",
   "execution_count": 18,
   "metadata": {},
   "outputs": [
    {
     "data": {
      "image/png": "[encoded data removed]",
      "text/plain": [
       "<Figure size 640x480 with 1 Axes>"
      ]
     },
     "metadata": {},
     "output_type": "display_data"
    }
   ],
   "source": [
    "file_sizes = []\n",
    "\n",
    "# Collect file sizes\n",
    "for label in labels:\n",
    "    for image_filename in os.listdir(os.path.join(train_path, label)):\n",
    "        file_path = os.path.join(train_path, label, image_filename)\n",
    "        file_size = os.path.getsize(file_path)\n",
    "        file_sizes.append(file_size)\n",
    "\n",
    "# Visualise file sizes\n",
    "plt.hist(file_sizes, bins=30)\n",
    "plt.title('Distribution of Image File Sizes')\n",
    "plt.xlabel('File Size (bytes)')\n",
    "plt.ylabel('Number of Images')\n",
    "plt.show()"
   ]
  },
  {
   "cell_type": "markdown",
   "metadata": {},
   "source": [
    "2. Image Feature Embeddings File"
   ]
  },
  {
   "cell_type": "code",
   "execution_count": null,
   "metadata": {},
   "outputs": [],
   "source": [
    "# Load the base model\n",
    "base_model = ResNet50(weights='imagenet')\n",
    "# Remove the output layer to get embeddings\n",
    "model = Model(inputs=base_model.input, outputs=base_model.get_layer('avg_pool').output)\n",
    "\n",
    "# Dictionary to store embeddings\n",
    "embeddings = {}\n",
    "\n",
    "for label in labels:\n",
    "    for image_filename in os.listdir(os.path.join(train_path, label)):\n",
    "        # Construct the full path to the image\n",
    "        img_path = os.path.join(train_path, label, image_filename)\n",
    "        # Load the image file, resizing it to the required input size of the model\n",
    "        img = image.load_img(img_path, target_size=(224, 224))\n",
    "        # Convert the image to an array and preprocess it for the model\n",
    "        img_array = image.img_to_array(img)\n",
    "        img_array = np.expand_dims(img_array, axis=0)\n",
    "        img_array = preprocess_input(img_array)\n",
    "        # Get the image's feature representation\n",
    "        features = model.predict(img_array)\n",
    "        # Flatten the features to a 1D array and store in the dictionary\n",
    "        embeddings[img_path] = features.flatten()\n",
    "\n"
   ]
  },
  {
   "cell_type": "code",
   "execution_count": 23,
   "metadata": {},
   "outputs": [
    {
     "name": "stdout",
     "output_type": "stream",
     "text": [
      "Embeddings have been saved to 'image_embeddings.joblib'.\n"
     ]
    }
   ],
   "source": [
    "# Save the embeddings with joblib\n",
    "dump(embeddings, 'image_embeddings.joblib', compress=True)\n",
    "\n",
    "print(f\"Embeddings have been saved to 'image_embeddings.joblib'.\")"
   ]
  },
  {
   "cell_type": "markdown",
   "metadata": {},
   "source": [
    "3. **Mean and Variability of Images per Label Plot**"
   ]
  }
 ],
 "metadata": {
  "kernelspec": {
   "display_name": "Python 3",
   "language": "python",
   "name": "python3"
  },
  "language_info": {
   "codemirror_mode": {
    "name": "ipython",
    "version": 3
   },
   "file_extension": ".py",
   "mimetype": "text/x-python",
   "name": "python",
   "nbconvert_exporter": "python",
   "pygments_lexer": "ipython3",
   "version": "3.12.2"
  }
 },
 "nbformat": 4,
 "nbformat_minor": 2
}
